{
 "cells": [
  {
   "cell_type": "code",
   "execution_count": null,
   "id": "2c532d45",
   "metadata": {},
   "outputs": [],
   "source": [
    "pip install requests"
   ]
  },
  {
   "cell_type": "code",
   "execution_count": null,
   "id": "8bc53c06",
   "metadata": {},
   "outputs": [],
   "source": [
    "import requests\n",
    "r = requests.get(\"https://www.britannica.com/biography/Milutin-Milankovitch\")"
   ]
  },
  {
   "cell_type": "code",
   "execution_count": null,
   "id": "50e2ae21",
   "metadata": {},
   "outputs": [],
   "source": [
    "print(r.text[0:500])"
   ]
  },
  {
   "cell_type": "code",
   "execution_count": null,
   "id": "688414d1",
   "metadata": {},
   "outputs": [],
   "source": [
    "pip install beautifulsoup4"
   ]
  },
  {
   "cell_type": "code",
   "execution_count": null,
   "id": "874516c3",
   "metadata": {},
   "outputs": [],
   "source": [
    "from bs4 import BeautifulSoup\n",
    "soup = BeautifulSoup(r.text, 'html.parser')"
   ]
  },
  {
   "cell_type": "code",
   "execution_count": null,
   "id": "277c972c",
   "metadata": {},
   "outputs": [],
   "source": [
    "results = soup.find_all('span', attrs={'class':'fact-item'})"
   ]
  },
  {
   "cell_type": "code",
   "execution_count": null,
   "id": "aa3bfd56",
   "metadata": {},
   "outputs": [],
   "source": [
    "len(results)"
   ]
  },
  {
   "cell_type": "code",
   "execution_count": null,
   "id": "66f76eee",
   "metadata": {},
   "outputs": [],
   "source": [
    "results[0:7]"
   ]
  },
  {
   "cell_type": "markdown",
   "id": "8d55d563",
   "metadata": {},
   "source": [
    "Extracting the date"
   ]
  },
  {
   "cell_type": "code",
   "execution_count": null,
   "id": "bf82beca",
   "metadata": {},
   "outputs": [],
   "source": [
    "first_result = results[0]\n",
    "first_result"
   ]
  },
  {
   "cell_type": "code",
   "execution_count": null,
   "id": "4668ce33",
   "metadata": {},
   "outputs": [],
   "source": [
    "results[2]"
   ]
  },
  {
   "cell_type": "code",
   "execution_count": null,
   "id": "d5076e21",
   "metadata": {},
   "outputs": [],
   "source": [
    "first_result.find('aged 79')"
   ]
  },
  {
   "cell_type": "code",
   "execution_count": null,
   "id": "d8064d5f",
   "metadata": {},
   "outputs": [],
   "source": [
    "first_result.contents"
   ]
  },
  {
   "cell_type": "code",
   "execution_count": null,
   "id": "48a1a4c0",
   "metadata": {},
   "outputs": [],
   "source": [
    "first_result.contents[0]"
   ]
  },
  {
   "cell_type": "code",
   "execution_count": null,
   "id": "1ebeb483",
   "metadata": {},
   "outputs": [],
   "source": [
    "first_result.find('a')"
   ]
  },
  {
   "cell_type": "markdown",
   "id": "d0a11fd5",
   "metadata": {},
   "source": [
    "Extracting the URL"
   ]
  },
  {
   "cell_type": "code",
   "execution_count": null,
   "id": "e7da0e72",
   "metadata": {},
   "outputs": [],
   "source": [
    "first_result.find('a')['href']"
   ]
  },
  {
   "cell_type": "markdown",
   "id": "4f5b9435",
   "metadata": {},
   "source": [
    "Building the dataset"
   ]
  },
  {
   "cell_type": "code",
   "execution_count": null,
   "id": "a40aa083",
   "metadata": {},
   "outputs": [],
   "source": [
    "#records = []\n",
    "#for result in results:\n",
    "#    date = result.find('strong')\n",
    "#    lie = result.contents[1][1:-2]\n",
    "#    explanation = result.find('a').text[1:-1]\n",
    "#    url = result.find('a')['href']\n",
    "#    records.append((date, lie, explanation, url))"
   ]
  },
  {
   "cell_type": "code",
   "execution_count": null,
   "id": "0900771f",
   "metadata": {},
   "outputs": [],
   "source": [
    "#len(records)"
   ]
  },
  {
   "cell_type": "code",
   "execution_count": null,
   "id": "86edf94b",
   "metadata": {},
   "outputs": [],
   "source": [
    "#records[0:3]"
   ]
  },
  {
   "cell_type": "markdown",
   "id": "07ea6b5f",
   "metadata": {},
   "source": [
    "Applying the tabular data structure"
   ]
  },
  {
   "cell_type": "code",
   "execution_count": null,
   "id": "511ca636",
   "metadata": {},
   "outputs": [],
   "source": [
    "#import pandas as pd\n",
    "#df = pd.DataFrame(records,columns=['date', 'lie', 'explanation', 'url'])"
   ]
  },
  {
   "cell_type": "code",
   "execution_count": null,
   "id": "3604afd8",
   "metadata": {},
   "outputs": [],
   "source": [
    "#df.tail()"
   ]
  },
  {
   "cell_type": "code",
   "execution_count": null,
   "id": "c53d945a",
   "metadata": {},
   "outputs": [],
   "source": [
    "#df['date'] = pd.to_datetime(df['date'])"
   ]
  },
  {
   "cell_type": "code",
   "execution_count": null,
   "id": "98ad24be",
   "metadata": {},
   "outputs": [],
   "source": [
    "#df.head()"
   ]
  },
  {
   "cell_type": "code",
   "execution_count": null,
   "id": "4669c90d",
   "metadata": {},
   "outputs": [],
   "source": [
    "#df.tail()"
   ]
  },
  {
   "cell_type": "markdown",
   "id": "e4f15f62",
   "metadata": {},
   "source": [
    "Exporting the dataset to CSV file"
   ]
  },
  {
   "cell_type": "code",
   "execution_count": null,
   "id": "f102f68e",
   "metadata": {},
   "outputs": [],
   "source": [
    "#df.to_csv('Milutin_Milankovic.csv'), index=False, encoding='utf-8'"
   ]
  },
  {
   "cell_type": "code",
   "execution_count": null,
   "id": "1efd757e",
   "metadata": {},
   "outputs": [],
   "source": [
    "#df = pd.read_csv('Milutin_Milankovic.csv'), parse_dates=['date'], encoding='utf-8')"
   ]
  },
  {
   "cell_type": "code",
   "execution_count": null,
   "id": "74f41465",
   "metadata": {},
   "outputs": [],
   "source": []
  },
  {
   "cell_type": "code",
   "execution_count": null,
   "id": "cae0e73c",
   "metadata": {},
   "outputs": [],
   "source": []
  },
  {
   "cell_type": "code",
   "execution_count": null,
   "id": "5225a268",
   "metadata": {},
   "outputs": [],
   "source": []
  },
  {
   "cell_type": "code",
   "execution_count": null,
   "id": "b07fc3bb",
   "metadata": {},
   "outputs": [],
   "source": []
  },
  {
   "cell_type": "code",
   "execution_count": null,
   "id": "e419941e",
   "metadata": {},
   "outputs": [],
   "source": []
  },
  {
   "cell_type": "code",
   "execution_count": null,
   "id": "199c0705",
   "metadata": {},
   "outputs": [],
   "source": []
  }
 ],
 "metadata": {
  "kernelspec": {
   "display_name": "Python 3 (ipykernel)",
   "language": "python",
   "name": "python3"
  },
  "language_info": {
   "codemirror_mode": {
    "name": "ipython",
    "version": 3
   },
   "file_extension": ".py",
   "mimetype": "text/x-python",
   "name": "python",
   "nbconvert_exporter": "python",
   "pygments_lexer": "ipython3",
   "version": "3.9.12"
  }
 },
 "nbformat": 4,
 "nbformat_minor": 5
}
